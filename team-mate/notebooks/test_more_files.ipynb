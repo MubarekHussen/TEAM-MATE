{
 "cells": [
  {
   "cell_type": "code",
   "execution_count": 1,
   "metadata": {},
   "outputs": [],
   "source": [
    "# %pip install langchain langchain_community langchain_openai llama_index llama-index-llms-langchain duckduckgo-search"
   ]
  },
  {
   "cell_type": "code",
   "execution_count": 2,
   "metadata": {},
   "outputs": [],
   "source": [
    "import sys\n",
    "sys.path.append('../')\n",
    "\n",
    "from scripts.helper import get_openai_api_key\n",
    "\n",
    "OPENAI_API_KEY = get_openai_api_key()"
   ]
  },
  {
   "cell_type": "code",
   "execution_count": 3,
   "metadata": {},
   "outputs": [],
   "source": [
    "import nest_asyncio\n",
    "\n",
    "nest_asyncio.apply()"
   ]
  },
  {
   "cell_type": "code",
   "execution_count": 4,
   "metadata": {},
   "outputs": [
    {
     "name": "stdout",
     "output_type": "stream",
     "text": [
      "['../files/Tenacious Talent - GenAI Upskilling.pdf']\n"
     ]
    }
   ],
   "source": [
    "import os\n",
    "\n",
    "directory = \"../files\"\n",
    "\n",
    "files = os.listdir(directory)\n",
    "\n",
    "papers = [os.path.join(directory, file) for file in files]\n",
    "\n",
    "print(papers)"
   ]
  },
  {
   "cell_type": "code",
   "execution_count": 5,
   "metadata": {},
   "outputs": [
    {
     "name": "stdout",
     "output_type": "stream",
     "text": [
      "Getting tools for paper: ../files/Tenacious Talent - GenAI Upskilling.pdf\n"
     ]
    }
   ],
   "source": [
    "from scripts.utils import get_doc_tools\n",
    "from pathlib import Path\n",
    "\n",
    "paper_to_tools_dict = {}\n",
    "for paper in papers:\n",
    "    print(f\"Getting tools for paper: {paper}\")\n",
    "    name = Path(paper).stem.replace(' ', '_').replace('.pdf', '')\n",
    "    vector_tool, summary_tool = get_doc_tools(paper, name)    \n",
    "    paper_to_tools_dict[paper] = [vector_tool, summary_tool]"
   ]
  },
  {
   "cell_type": "code",
   "execution_count": 6,
   "metadata": {},
   "outputs": [],
   "source": [
    "all_tools = [t for paper in papers for t in paper_to_tools_dict[paper]]"
   ]
  },
  {
   "cell_type": "code",
   "execution_count": 7,
   "metadata": {},
   "outputs": [],
   "source": [
    "from llama_index.llms.openai import OpenAI\n",
    "\n",
    "llm = OpenAI(model=\"gpt-3.5-turbo\")"
   ]
  },
  {
   "cell_type": "code",
   "execution_count": 8,
   "metadata": {},
   "outputs": [],
   "source": [
    "from llama_index.core import VectorStoreIndex\n",
    "from llama_index.core.objects import ObjectIndex\n",
    "\n",
    "obj_index = ObjectIndex.from_objects(\n",
    "    all_tools,\n",
    "    index_cls=VectorStoreIndex,\n",
    ")"
   ]
  },
  {
   "cell_type": "code",
   "execution_count": 9,
   "metadata": {},
   "outputs": [],
   "source": [
    "obj_retriever = obj_index.as_retriever(similarity_top_k=3)"
   ]
  },
  {
   "cell_type": "code",
   "execution_count": 10,
   "metadata": {},
   "outputs": [],
   "source": [
    "tools = obj_retriever.retrieve(\n",
    "    \"What is Tenacious Talent - GenAI UpSkilling GEN-AI Challenge?\"\n",
    ")"
   ]
  },
  {
   "cell_type": "code",
   "execution_count": 11,
   "metadata": {},
   "outputs": [
    {
     "data": {
      "text/plain": [
       "ToolMetadata(description='vector_tool_Tenacious_Talent_-_GenAI_Upskilling(query: str, page_numbers: Optional[List[str]] = None) -> str\\nUse to answer questions over a given document.\\n\\n        Useful if you have specific questions over the document.\\n        Always leave page_numbers as None UNLESS there is a specific page you want to search for.\\n\\n        Args:\\n            query (str): the string query to be embedded.\\n            page_numbers (Optional[List[str]]): Filter by set of pages. Leave as NONE \\n                if we want to perform a vector search\\n                over all pages. Otherwise, filter by the set of specified pages.\\n        \\n        ', name='vector_tool_Tenacious_Talent_-_GenAI_Upskilling', fn_schema=<class 'pydantic.v1.main.vector_tool_Tenacious_Talent_-_GenAI_Upskilling'>, return_direct=False)"
      ]
     },
     "execution_count": 11,
     "metadata": {},
     "output_type": "execute_result"
    }
   ],
   "source": [
    "tools[1].metadata"
   ]
  },
  {
   "cell_type": "code",
   "execution_count": 12,
   "metadata": {},
   "outputs": [],
   "source": [
    "from llama_index.core.agent import FunctionCallingAgentWorker\n",
    "from llama_index.core.agent import AgentRunner\n",
    "\n",
    "agent_worker = FunctionCallingAgentWorker.from_tools(\n",
    "    tool_retriever=obj_retriever,\n",
    "    llm=llm, \n",
    "    system_prompt=\"\"\" \\\n",
    "You are an agent designed to answer queries over a set of given documents.\n",
    "Please always use the tools provided to answer a question. and give analysis based on your knowledge and the documents\\\n",
    "\n",
    "\"\"\",\n",
    "    verbose=True\n",
    ")\n",
    "agent = AgentRunner(agent_worker)"
   ]
  },
  {
   "cell_type": "code",
   "execution_count": 13,
   "metadata": {},
   "outputs": [],
   "source": [
    "from langchain.tools import Tool\n",
    "from langchain_community.tools import DuckDuckGoSearchRun\n",
    "\n",
    "# Initialize DuckDuckGoSearch tool\n",
    "search = DuckDuckGoSearchRun()\n",
    "duckduckgo_tool = Tool(\n",
    "    name='DuckDuckGoSearch',\n",
    "    func=search.run,\n",
    "    description='Use this tool to perform an internet search if document retrieval does not provide sufficient information.'\n",
    ")\n",
    "\n",
    "# Combine document tools and web search tool\n",
    "# tools = [duckduckgo_tool] + all_tools"
   ]
  },
  {
   "cell_type": "code",
   "execution_count": 14,
   "metadata": {},
   "outputs": [],
   "source": [
    "import os\n",
    "import logging\n",
    "from openai import OpenAI\n",
    "from dotenv import load_dotenv\n",
    "\n",
    "# Load environment variables\n",
    "load_dotenv()\n",
    "\n",
    "# Initialize logging\n",
    "logging.basicConfig(level=logging.INFO)\n",
    "\n",
    "def get_openai_client():\n",
    "    \"\"\"Get OpenAI client with API key.\"\"\"\n",
    "    api_key = os.getenv('OPENAI_API_KEY')\n",
    "    if not api_key:\n",
    "        raise ValueError(\"Missing OpenAI API key\")\n",
    "    return OpenAI(api_key=api_key)\n",
    "\n",
    "def is_insufficient_response(response):\n",
    "    \"\"\"Check if the response contains phrases indicating insufficiency.\"\"\"\n",
    "    insufficient_phrases = [\n",
    "        \"is not a term or concept mentioned\",\n",
    "        \"not found in the document\",\n",
    "        \"not mentioned in the provided document\",\n",
    "        \"lack of existing context\"\n",
    "        \"does not contain\"\n",
    "    ]\n",
    "    for phrase in insufficient_phrases:\n",
    "        if phrase in response.lower():\n",
    "            return True\n",
    "    return False\n",
    "\n",
    "def query_with_fallback(agent, question):\n",
    "    # First, use the agent to retrieve information from documents\n",
    "    response = agent.query(question)\n",
    "    \n",
    "    # Extract content from the response object\n",
    "    content = getattr(response, 'response', None)\n",
    "    \n",
    "    # Debugging: print the structure of the response and content\n",
    "    print(f\"Response from agent: {response}\")\n",
    "    print(f\"Extracted Content: {content}\")\n",
    "    \n",
    "    # Check if the content is non-empty and has meaningful information\n",
    "    if content and content.strip():\n",
    "        # Check for specific phrases indicating insufficient response\n",
    "        if is_insufficient_response(content):\n",
    "            print(\"Detected insufficient response based on content analysis. Falling back to web search.\")\n",
    "            web_response = search.run(question)\n",
    "            return web_response\n",
    "        \n",
    "        # Construct sufficiency check prompt\n",
    "        sufficiency_check_prompt = f\"\"\"\n",
    "        Question: {question}\n",
    "        Response: {content}\n",
    "\n",
    "        Is the above response sufficient and relevant to answer the question? Please answer with 'yes' or 'no' and provide a brief justification.\n",
    "        \"\"\"\n",
    "        \n",
    "        # Debugging: print the sufficiency check prompt\n",
    "        print(\"Sufficiency Check Prompt:\")\n",
    "        print(sufficiency_check_prompt)\n",
    "        \n",
    "        try:\n",
    "            # Perform the sufficiency check using OpenAI API\n",
    "            client = get_openai_client()\n",
    "            chat_completion = client.chat.completions.create(\n",
    "                model=\"gpt-3.5-turbo\",\n",
    "                messages=[\n",
    "                    {\"role\": \"system\", \"content\": \"You are an AI designed to assess the sufficiency and relevance of responses.\"},\n",
    "                    {\"role\": \"user\", \"content\": sufficiency_check_prompt}\n",
    "                ]\n",
    "            )\n",
    "            \n",
    "            sufficiency_check = chat_completion.choices[0].message.content.strip()\n",
    "            \n",
    "            # Debugging: print the sufficiency check result\n",
    "            print(\"Sufficiency Check Result:\")\n",
    "            print(sufficiency_check)\n",
    "\n",
    "            # Determine if the response is sufficient based on the sufficiency check\n",
    "            if 'yes' in sufficiency_check.lower():\n",
    "                return content\n",
    "            else:\n",
    "                print(\"Response deemed insufficient. Falling back to web search.\")\n",
    "                web_response = search.run(question)\n",
    "                return web_response\n",
    "        except Exception as e:\n",
    "            logging.error(f\"Failed to get chat completion: {e}\")\n",
    "            return \"An error occurred while trying to assess the sufficiency of the response.\"\n",
    "    else:\n",
    "        print(\"Document retrieval did not provide sufficient context. Falling back to web search.\")\n",
    "        web_response = search.run(question)\n",
    "        return web_response"
   ]
  },
  {
   "cell_type": "code",
   "execution_count": 15,
   "metadata": {},
   "outputs": [
    {
     "name": "stdout",
     "output_type": "stream",
     "text": [
      "Added user message to memory: can you tell me about Ethiopia?\n"
     ]
    },
    {
     "name": "stderr",
     "output_type": "stream",
     "text": [
      "INFO:httpx:HTTP Request: POST https://api.openai.com/v1/embeddings \"HTTP/1.1 200 OK\"\n",
      "INFO:httpx:HTTP Request: POST https://api.openai.com/v1/chat/completions \"HTTP/1.1 200 OK\"\n"
     ]
    },
    {
     "name": "stdout",
     "output_type": "stream",
     "text": [
      "=== Calling Function ===\n",
      "Calling function: summary_tool_Tenacious_Talent_-_GenAI_Upskilling with args: {\"input\": \"Ethiopia\"}\n"
     ]
    },
    {
     "name": "stderr",
     "output_type": "stream",
     "text": [
      "INFO:httpx:HTTP Request: POST https://api.openai.com/v1/chat/completions \"HTTP/1.1 200 OK\"\n"
     ]
    },
    {
     "name": "stdout",
     "output_type": "stream",
     "text": [
      "=== Function Output ===\n",
      "Team-Mate, an independent company dedicated to helping students and trainees manage their time and focus more effectively, introduces a personalized agent to enhance the training and educational experience. This system serves as a supportive digital assistant to help students manage their tasks effectively, facilitate collaboration, and access necessary resources effortlessly. The key services provided by Team-Mate include personalized interaction, adaptive learning and support, proactive planning and scheduling, blocker resolution, and enhancing collaboration. The project aims to showcase the potential of AI agents in transforming education and training environments, demonstrating how personalized learning can significantly improve outcomes and engagement.\n"
     ]
    },
    {
     "name": "stderr",
     "output_type": "stream",
     "text": [
      "INFO:httpx:HTTP Request: POST https://api.openai.com/v1/embeddings \"HTTP/1.1 200 OK\"\n",
      "INFO:httpx:HTTP Request: POST https://api.openai.com/v1/chat/completions \"HTTP/1.1 200 OK\"\n"
     ]
    },
    {
     "name": "stdout",
     "output_type": "stream",
     "text": [
      "=== LLM Response ===\n",
      "Ethiopia is a country in East Africa known for its rich history and diverse culture. It is home to ancient civilizations, such as the Aksumite Empire, and is one of the oldest countries in the world. Ethiopia is also famous for being the only African country that was never colonized by a European power. The country has a unique calendar system with 13 months, and it is known for its traditional cuisine, including injera (a sourdough flatbread) and various spicy stews.\n",
      "\n",
      "Ethiopia is a land of natural beauty, with stunning landscapes that include the Simien Mountains, the Danakil Depression (one of the hottest places on Earth), and the Blue Nile Falls. The country is also known for its wildlife, including rare species like the Ethiopian wolf and the Gelada baboon.\n",
      "\n",
      "In recent years, Ethiopia has experienced significant economic growth and development, with a focus on infrastructure projects and industrialization. The capital city, Addis Ababa, is a bustling metropolis and serves as the headquarters for the African Union.\n",
      "\n",
      "Overall, Ethiopia is a country with a rich cultural heritage, stunning natural landscapes, and a growing economy that is increasingly attracting attention on the global stage.\n",
      "Response from agent: Ethiopia is a country in East Africa known for its rich history and diverse culture. It is home to ancient civilizations, such as the Aksumite Empire, and is one of the oldest countries in the world. Ethiopia is also famous for being the only African country that was never colonized by a European power. The country has a unique calendar system with 13 months, and it is known for its traditional cuisine, including injera (a sourdough flatbread) and various spicy stews.\n",
      "\n",
      "Ethiopia is a land of natural beauty, with stunning landscapes that include the Simien Mountains, the Danakil Depression (one of the hottest places on Earth), and the Blue Nile Falls. The country is also known for its wildlife, including rare species like the Ethiopian wolf and the Gelada baboon.\n",
      "\n",
      "In recent years, Ethiopia has experienced significant economic growth and development, with a focus on infrastructure projects and industrialization. The capital city, Addis Ababa, is a bustling metropolis and serves as the headquarters for the African Union.\n",
      "\n",
      "Overall, Ethiopia is a country with a rich cultural heritage, stunning natural landscapes, and a growing economy that is increasingly attracting attention on the global stage.\n",
      "Extracted Content: Ethiopia is a country in East Africa known for its rich history and diverse culture. It is home to ancient civilizations, such as the Aksumite Empire, and is one of the oldest countries in the world. Ethiopia is also famous for being the only African country that was never colonized by a European power. The country has a unique calendar system with 13 months, and it is known for its traditional cuisine, including injera (a sourdough flatbread) and various spicy stews.\n",
      "\n",
      "Ethiopia is a land of natural beauty, with stunning landscapes that include the Simien Mountains, the Danakil Depression (one of the hottest places on Earth), and the Blue Nile Falls. The country is also known for its wildlife, including rare species like the Ethiopian wolf and the Gelada baboon.\n",
      "\n",
      "In recent years, Ethiopia has experienced significant economic growth and development, with a focus on infrastructure projects and industrialization. The capital city, Addis Ababa, is a bustling metropolis and serves as the headquarters for the African Union.\n",
      "\n",
      "Overall, Ethiopia is a country with a rich cultural heritage, stunning natural landscapes, and a growing economy that is increasingly attracting attention on the global stage.\n",
      "Sufficiency Check Prompt:\n",
      "\n",
      "        Question: can you tell me about Ethiopia?\n",
      "        Response: Ethiopia is a country in East Africa known for its rich history and diverse culture. It is home to ancient civilizations, such as the Aksumite Empire, and is one of the oldest countries in the world. Ethiopia is also famous for being the only African country that was never colonized by a European power. The country has a unique calendar system with 13 months, and it is known for its traditional cuisine, including injera (a sourdough flatbread) and various spicy stews.\n",
      "\n",
      "Ethiopia is a land of natural beauty, with stunning landscapes that include the Simien Mountains, the Danakil Depression (one of the hottest places on Earth), and the Blue Nile Falls. The country is also known for its wildlife, including rare species like the Ethiopian wolf and the Gelada baboon.\n",
      "\n",
      "In recent years, Ethiopia has experienced significant economic growth and development, with a focus on infrastructure projects and industrialization. The capital city, Addis Ababa, is a bustling metropolis and serves as the headquarters for the African Union.\n",
      "\n",
      "Overall, Ethiopia is a country with a rich cultural heritage, stunning natural landscapes, and a growing economy that is increasingly attracting attention on the global stage.\n",
      "\n",
      "        Is the above response sufficient and relevant to answer the question? Please answer with 'yes' or 'no' and provide a brief justification.\n",
      "        \n"
     ]
    },
    {
     "name": "stderr",
     "output_type": "stream",
     "text": [
      "INFO:httpx:HTTP Request: POST https://api.openai.com/v1/chat/completions \"HTTP/1.1 200 OK\"\n"
     ]
    },
    {
     "name": "stdout",
     "output_type": "stream",
     "text": [
      "Sufficiency Check Result:\n",
      "Yes. \n",
      "\n",
      "The response provides a comprehensive overview of Ethiopia, covering its history, culture, geography, wildlife, economy, and global significance. It answers the question by offering relevant information about the country.\n",
      "\n",
      "Final Response: Ethiopia is a country in East Africa known for its rich history and diverse culture. It is home to ancient civilizations, such as the Aksumite Empire, and is one of the oldest countries in the world. Ethiopia is also famous for being the only African country that was never colonized by a European power. The country has a unique calendar system with 13 months, and it is known for its traditional cuisine, including injera (a sourdough flatbread) and various spicy stews.\n",
      "\n",
      "Ethiopia is a land of natural beauty, with stunning landscapes that include the Simien Mountains, the Danakil Depression (one of the hottest places on Earth), and the Blue Nile Falls. The country is also known for its wildlife, including rare species like the Ethiopian wolf and the Gelada baboon.\n",
      "\n",
      "In recent years, Ethiopia has experienced significant economic growth and development, with a focus on infrastructure projects and industrialization. The capital city, Addis Ababa, is a bustling metropolis and serves as the headquarters for the African Union.\n",
      "\n",
      "Overall, Ethiopia is a country with a rich cultural heritage, stunning natural landscapes, and a growing economy that is increasingly attracting attention on the global stage.\n"
     ]
    }
   ],
   "source": [
    "response = query_with_fallback(agent, \"can you tell me about Ethiopia?\")\n",
    "print(\"\\nFinal Response:\", response)"
   ]
  },
  {
   "cell_type": "code",
   "execution_count": 16,
   "metadata": {},
   "outputs": [
    {
     "name": "stdout",
     "output_type": "stream",
     "text": [
      "Added user message to memory: What is Tenacious Talent - GenAI UpSkilling GEN-AI Challenge?\n"
     ]
    },
    {
     "name": "stderr",
     "output_type": "stream",
     "text": [
      "INFO:httpx:HTTP Request: POST https://api.openai.com/v1/embeddings \"HTTP/1.1 200 OK\"\n",
      "INFO:httpx:HTTP Request: POST https://api.openai.com/v1/chat/completions \"HTTP/1.1 200 OK\"\n"
     ]
    },
    {
     "name": "stdout",
     "output_type": "stream",
     "text": [
      "=== Calling Function ===\n",
      "Calling function: summary_tool_Tenacious_Talent_-_GenAI_Upskilling with args: {\"input\": \"Tenacious Talent - GenAI UpSkilling GEN-AI Challenge\"}\n"
     ]
    },
    {
     "name": "stderr",
     "output_type": "stream",
     "text": [
      "INFO:httpx:HTTP Request: POST https://api.openai.com/v1/chat/completions \"HTTP/1.1 200 OK\"\n"
     ]
    },
    {
     "name": "stdout",
     "output_type": "stream",
     "text": [
      "=== Function Output ===\n",
      "TeamMate, a fictional company, aims to assist students and trainees in managing their time and focus effectively. They introduce a personalized LLM-enhanced agent to serve as a supportive digital assistant, helping individuals manage tasks, facilitate collaboration, and access resources effortlessly. The key services provided by Team-Mate include personalized interaction, adaptive learning and support, proactive planning and scheduling, blocker resolution, and enhancing collaboration. The project utilizes technologies like LLMs and Retrieval Augmented Generation (RAG) to transform educational and training environments, enhancing learning efficiency and fostering a collaborative atmosphere. The learning outcomes focus on skills development in prompt engineering, RAG implementation, agent design, vector store implementation, data analysis with LLMs, and frontend development. The project aims to showcase the potential of AI agents in improving education and training outcomes through personalized learning experiences.\n"
     ]
    },
    {
     "name": "stderr",
     "output_type": "stream",
     "text": [
      "INFO:httpx:HTTP Request: POST https://api.openai.com/v1/embeddings \"HTTP/1.1 200 OK\"\n",
      "INFO:httpx:HTTP Request: POST https://api.openai.com/v1/chat/completions \"HTTP/1.1 200 OK\"\n"
     ]
    },
    {
     "name": "stdout",
     "output_type": "stream",
     "text": [
      "=== LLM Response ===\n",
      "The Tenacious Talent - GenAI UpSkilling GEN-AI Challenge involves TeamMate, a fictional company, introducing a personalized LLM-enhanced agent to assist students and trainees in managing their time and focus effectively. The project focuses on providing personalized interaction, adaptive learning and support, proactive planning and scheduling, blocker resolution, and enhancing collaboration. Technologies like LLMs and Retrieval Augmented Generation (RAG) are utilized to transform educational and training environments, aiming to improve learning efficiency and foster a collaborative atmosphere. The project emphasizes skills development in various areas such as prompt engineering, RAG implementation, agent design, vector store implementation, data analysis with LLMs, and frontend development to showcase the potential of AI agents in enhancing education and training outcomes through personalized learning experiences.\n",
      "Response from agent: The Tenacious Talent - GenAI UpSkilling GEN-AI Challenge involves TeamMate, a fictional company, introducing a personalized LLM-enhanced agent to assist students and trainees in managing their time and focus effectively. The project focuses on providing personalized interaction, adaptive learning and support, proactive planning and scheduling, blocker resolution, and enhancing collaboration. Technologies like LLMs and Retrieval Augmented Generation (RAG) are utilized to transform educational and training environments, aiming to improve learning efficiency and foster a collaborative atmosphere. The project emphasizes skills development in various areas such as prompt engineering, RAG implementation, agent design, vector store implementation, data analysis with LLMs, and frontend development to showcase the potential of AI agents in enhancing education and training outcomes through personalized learning experiences.\n",
      "Extracted Content: The Tenacious Talent - GenAI UpSkilling GEN-AI Challenge involves TeamMate, a fictional company, introducing a personalized LLM-enhanced agent to assist students and trainees in managing their time and focus effectively. The project focuses on providing personalized interaction, adaptive learning and support, proactive planning and scheduling, blocker resolution, and enhancing collaboration. Technologies like LLMs and Retrieval Augmented Generation (RAG) are utilized to transform educational and training environments, aiming to improve learning efficiency and foster a collaborative atmosphere. The project emphasizes skills development in various areas such as prompt engineering, RAG implementation, agent design, vector store implementation, data analysis with LLMs, and frontend development to showcase the potential of AI agents in enhancing education and training outcomes through personalized learning experiences.\n",
      "Sufficiency Check Prompt:\n",
      "\n",
      "        Question: What is Tenacious Talent - GenAI UpSkilling GEN-AI Challenge?\n",
      "        Response: The Tenacious Talent - GenAI UpSkilling GEN-AI Challenge involves TeamMate, a fictional company, introducing a personalized LLM-enhanced agent to assist students and trainees in managing their time and focus effectively. The project focuses on providing personalized interaction, adaptive learning and support, proactive planning and scheduling, blocker resolution, and enhancing collaboration. Technologies like LLMs and Retrieval Augmented Generation (RAG) are utilized to transform educational and training environments, aiming to improve learning efficiency and foster a collaborative atmosphere. The project emphasizes skills development in various areas such as prompt engineering, RAG implementation, agent design, vector store implementation, data analysis with LLMs, and frontend development to showcase the potential of AI agents in enhancing education and training outcomes through personalized learning experiences.\n",
      "\n",
      "        Is the above response sufficient and relevant to answer the question? Please answer with 'yes' or 'no' and provide a brief justification.\n",
      "        \n"
     ]
    },
    {
     "name": "stderr",
     "output_type": "stream",
     "text": [
      "INFO:httpx:HTTP Request: POST https://api.openai.com/v1/chat/completions \"HTTP/1.1 200 OK\"\n"
     ]
    },
    {
     "name": "stdout",
     "output_type": "stream",
     "text": [
      "Sufficiency Check Result:\n",
      "Yes, the response is sufficient and relevant to answer the question. It provides a detailed explanation of the Tenacious Talent - GenAI UpSkilling GEN-AI Challenge, outlining its objectives, methodologies, and technologies involved in enhancing education and training environments.\n",
      "\n",
      "Final Response: The Tenacious Talent - GenAI UpSkilling GEN-AI Challenge involves TeamMate, a fictional company, introducing a personalized LLM-enhanced agent to assist students and trainees in managing their time and focus effectively. The project focuses on providing personalized interaction, adaptive learning and support, proactive planning and scheduling, blocker resolution, and enhancing collaboration. Technologies like LLMs and Retrieval Augmented Generation (RAG) are utilized to transform educational and training environments, aiming to improve learning efficiency and foster a collaborative atmosphere. The project emphasizes skills development in various areas such as prompt engineering, RAG implementation, agent design, vector store implementation, data analysis with LLMs, and frontend development to showcase the potential of AI agents in enhancing education and training outcomes through personalized learning experiences.\n"
     ]
    }
   ],
   "source": [
    "response = query_with_fallback(agent, \"What is Tenacious Talent - GenAI UpSkilling GEN-AI Challenge?\")\n",
    "print(\"\\nFinal Response:\", response)"
   ]
  },
  {
   "cell_type": "code",
   "execution_count": 17,
   "metadata": {},
   "outputs": [
    {
     "name": "stdout",
     "output_type": "stream",
     "text": [
      "Added user message to memory: can you tell me about ALX?\n"
     ]
    },
    {
     "name": "stderr",
     "output_type": "stream",
     "text": [
      "INFO:httpx:HTTP Request: POST https://api.openai.com/v1/embeddings \"HTTP/1.1 200 OK\"\n",
      "INFO:httpx:HTTP Request: POST https://api.openai.com/v1/chat/completions \"HTTP/1.1 200 OK\"\n"
     ]
    },
    {
     "name": "stdout",
     "output_type": "stream",
     "text": [
      "=== Calling Function ===\n",
      "Calling function: summary_tool_Tenacious_Talent_-_GenAI_Upskilling with args: {\"input\": \"ALX\"}\n"
     ]
    },
    {
     "name": "stderr",
     "output_type": "stream",
     "text": [
      "INFO:httpx:HTTP Request: POST https://api.openai.com/v1/chat/completions \"HTTP/1.1 200 OK\"\n"
     ]
    },
    {
     "name": "stdout",
     "output_type": "stream",
     "text": [
      "=== Function Output ===\n",
      "ALX is not a term or concept mentioned in the provided context information.\n"
     ]
    },
    {
     "name": "stderr",
     "output_type": "stream",
     "text": [
      "INFO:httpx:HTTP Request: POST https://api.openai.com/v1/embeddings \"HTTP/1.1 200 OK\"\n",
      "INFO:httpx:HTTP Request: POST https://api.openai.com/v1/chat/completions \"HTTP/1.1 200 OK\"\n"
     ]
    },
    {
     "name": "stdout",
     "output_type": "stream",
     "text": [
      "=== LLM Response ===\n",
      "ALX is not a term or concept mentioned in the provided document. If you have any specific information or context about ALX that you would like me to explore, please provide more details.\n",
      "Response from agent: ALX is not a term or concept mentioned in the provided document. If you have any specific information or context about ALX that you would like me to explore, please provide more details.\n",
      "Extracted Content: ALX is not a term or concept mentioned in the provided document. If you have any specific information or context about ALX that you would like me to explore, please provide more details.\n",
      "Detected insufficient response based on content analysis. Falling back to web search.\n",
      "\n",
      "Final Response: Tell us about the ideal ALX candidate. What qualities, experiences, mindsets, and skills do you look out for? ... You can determine if an ALX programme is the best fit for you based on your time commitment, career goals and interests. Some of our programmes require learners to commit at least 20 hrs per week and others require 70 hrs per week. Answer: Rotavirus is a leading cause of severe diarrhea among young children worldwide. It is a highly contagious virus that causes gastroenteritis, an inflammation of the stomach and intestines ... Top 10 Entry-Level Data Analytics Careers. With an ALX data analytics certificate on your resume, you'll be qualified for these in-demand entry-level roles: 1. Junior Data Analyst. Junior data analysts support senior analysts in the daily functions of collecting, processing, analysing, and reporting data. The ALX AI Career Essentials Program is a fully funded 6-week online learning journey designed to equip entry-level professionals or working people with essential AI literacy skills needed in ... There are numerous ways this question might be framed, but all express the same intention on the part of the interviewer, so they should all be answered the same way. Common variants include: \"Take me through your resume.\". \"Tell me about your background\". \"Describe yourself.\".\n"
     ]
    }
   ],
   "source": [
    "response = query_with_fallback(agent, \"can you tell me about ALX?\")\n",
    "print(\"\\nFinal Response:\", response)"
   ]
  }
 ],
 "metadata": {
  "kernelspec": {
   "display_name": "bankos",
   "language": "python",
   "name": "python3"
  },
  "language_info": {
   "codemirror_mode": {
    "name": "ipython",
    "version": 3
   },
   "file_extension": ".py",
   "mimetype": "text/x-python",
   "name": "python",
   "nbconvert_exporter": "python",
   "pygments_lexer": "ipython3",
   "version": "3.11.9"
  }
 },
 "nbformat": 4,
 "nbformat_minor": 2
}
